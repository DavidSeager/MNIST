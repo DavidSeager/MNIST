{
 "cells": [
  {
   "cell_type": "code",
   "execution_count": 1,
   "id": "071565bf",
   "metadata": {},
   "outputs": [],
   "source": [
    "#Writing a Neural Network Class from Scratch\n",
    "\n",
    "import numpy as np\n",
    "        \n",
    "class NeuralNetwork:\n",
    "    def __init__(self, neuronsperlayer): #Sets Up Weights and Biases of Neural Network\n",
    "        self.noflayers = len(neuronsperlayer)\n",
    "        #Xavier Initialisation\n",
    "        self.w = [np.random.normal(0.0, (2.0 / (neuronsperlayer[i] + neuronsperlayer[i+1])) ** 0.5, size=(neuronsperlayer[i+1], neuronsperlayer[i])) for i in range(self.noflayers-1)]\n",
    "        self.b = [np.zeros((neuronsperlayer[i+1], 1)) for i in range(self.noflayers-1)]\n",
    "    \n",
    "    @staticmethod\n",
    "    def sigmoid(arr): #Activation Function of a Neuron\n",
    "        return 1 / (1 + np.exp(-arr))\n",
    "\n",
    "    @staticmethod\n",
    "    def derivative_sigmoid(arr): #Derivative of Activation Function\n",
    "        sigmoid_value = NeuralNetwork.sigmoid(arr)\n",
    "        return sigmoid_value * (1 - sigmoid_value)\n",
    "        \n",
    "    def forward(self, input_layers): #Forward Pass through Neural Network                 \n",
    "        self.a = [input_layers]\n",
    "        self.z = []\n",
    "        \n",
    "        for W, b in zip(self.w, self.b):\n",
    "            Z = W @ self.a[-1] + b        \n",
    "            self.z.append(Z)\n",
    "            a = self.sigmoid(Z)  \n",
    "            self.a.append(a)\n",
    "            \n",
    "        return self.a[-1]         \n",
    "    \n",
    "    @staticmethod\n",
    "    def loss(output_layers, targets): #Loss Function\n",
    "        return 0.5 * np.sum((targets - output_layers)**2) / targets.shape[1]\n",
    "    \n",
    "    def backward(self, targets): #Backpropagation of Neural Network --> Provides Gradient of Loss Function\n",
    "        N = targets.shape[1]\n",
    "        delta = (self.a[-1] - targets) * self.derivative_sigmoid(self.z[-1])\n",
    "        self.grad_b = [delta.sum(axis=1, keepdims=True) / N]\n",
    "        self.grad_w = [delta @ self.a[-2].T / N]\n",
    "\n",
    "        for i in range(self.noflayers-2, 0, -1):\n",
    "            delta = (self.w[i].T @ delta) * self.derivative_sigmoid(self.z[i-1])\n",
    "            self.grad_b.append(delta.sum(axis=1, keepdims=True) / N)\n",
    "            self.grad_w.append(delta @ self.a[i-1].T / N)\n",
    "\n",
    "        self.grad_w.reverse()\n",
    "        self.grad_b.reverse()\n",
    "        \n",
    "    def update(self, learning_rate): #Updating the Weights and Biases of Neural Network\n",
    "        for i in range(self.noflayers-1):\n",
    "            self.w[i] -= learning_rate * self.grad_w[i]\n",
    "            self.b[i] -= learning_rate * self.grad_b[i]\n",
    "            \n",
    "    def learn(self, training_data, target, epochs, learning_rate, batch_size): #Stochastic Gradient Descent \n",
    "        N = training_data.shape[1]\n",
    "        \n",
    "        for epoch in range(1, epochs+1):\n",
    "            permutation = np.random.permutation(N)\n",
    "            training_data, target = training_data[:, permutation], target[:, permutation]\n",
    "\n",
    "            for i in range(0, N, batch_size):\n",
    "                input_batch = training_data[:, i:i+batch_size]\n",
    "                target_batch = target[:, i:i+batch_size]\n",
    "                output_layers = self.forward(input_batch)\n",
    "                self.backward(target_batch)\n",
    "                self.update(learning_rate)\n",
    "\n",
    "            if epoch % 500 == 0 or epoch == 1:\n",
    "                loss = self.loss(self.forward(training_data), target)\n",
    "                print(f\"Epoch {epoch:3d} - Loss: {loss:.4f}\")\n"
   ]
  },
  {
   "cell_type": "code",
   "execution_count": 2,
   "id": "f788a2f2",
   "metadata": {},
   "outputs": [
    {
     "name": "stdout",
     "output_type": "stream",
     "text": [
      "Epoch   1 - Loss: 0.4452\n",
      "Epoch 500 - Loss: 0.0145\n",
      "Epoch 1000 - Loss: 0.0062\n",
      "Epoch 1500 - Loss: 0.0035\n",
      "Epoch 2000 - Loss: 0.0025\n"
     ]
    }
   ],
   "source": [
    "import numpy as np\n",
    "import pickle\n",
    "\n",
    "with open(\"mnist.pkl\", \"rb\") as f: #Loading in Data\n",
    "    (train_X, train_y), (valid_X, valid_y), (test_X, test_y) = pickle.load(f, encoding=\"latin1\")\n",
    "\n",
    "#Not Using Validation Data so Stacking it with the Training Data\n",
    "train_X = np.vstack([train_X, valid_X]) \n",
    "train_y = np.hstack([train_y, valid_y])\n",
    "\n",
    "#Changing the y/Output Data as Vectors\n",
    "#Ex: 3 --> [0, 0, 0, 1, 0, 0, 0, 0, 0, 0]\n",
    "num_classes = 10\n",
    "eye = np.eye(num_classes)\n",
    "train_Y_1hot = eye[train_y]\n",
    "test_Y_1hot  = eye[test_y]\n",
    "\n",
    "#Final Set Up of Data\n",
    "X_train = train_X.T\n",
    "Y_train = train_Y_1hot.T\n",
    "X_test  = test_X.T\n",
    "\n",
    "#Generating Neural Network and Making it Learn\n",
    "NN = NeuralNetwork(neuronsperlayer=[784, 128, 64, 10])\n",
    "NN.learn(X_train, Y_train, epochs=2000, learning_rate=0.1, batch_size=128)\n"
   ]
  },
  {
   "cell_type": "code",
   "execution_count": 3,
   "id": "3ef32f4b",
   "metadata": {},
   "outputs": [
    {
     "name": "stdout",
     "output_type": "stream",
     "text": [
      "\n",
      "Test Accuracy: 98.09%\n"
     ]
    }
   ],
   "source": [
    "#Testing the Network for its Accuracy\n",
    "logits = NN.forward(X_test)\n",
    "preds = logits.argmax(axis=0)\n",
    "acc = (preds == test_y).mean()\n",
    "\n",
    "print(f\"\\nTest Accuracy: {acc*100:.2f}%\")\n"
   ]
  }
 ],
 "metadata": {
  "kernelspec": {
   "display_name": "Python 3 (ipykernel)",
   "language": "python",
   "name": "python3"
  },
  "language_info": {
   "codemirror_mode": {
    "name": "ipython",
    "version": 3
   },
   "file_extension": ".py",
   "mimetype": "text/x-python",
   "name": "python",
   "nbconvert_exporter": "python",
   "pygments_lexer": "ipython3",
   "version": "3.9.16"
  }
 },
 "nbformat": 4,
 "nbformat_minor": 5
}
