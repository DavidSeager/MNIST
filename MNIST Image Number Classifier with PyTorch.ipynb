{
 "cells": [
  {
   "cell_type": "code",
   "execution_count": 1,
   "id": "160706d5",
   "metadata": {},
   "outputs": [],
   "source": [
    "import numpy as np\n",
    "import torch\n",
    "import torch.nn as nn\n",
    "import torch.optim as optim\n",
    "import torch.nn.init as init\n",
    "\n",
    "class NeuralNetwork:\n",
    "    def __init__(self, neuronsperlayer, learning_rate):\n",
    "        super().__init__()\n",
    "        self.noflayers = len(neuronsperlayer)\n",
    "        self.device = torch.device(\"cpu\")\n",
    "        layers = []\n",
    "        \n",
    "        for i in range(self.noflayers-1):\n",
    "            layers.append(nn.Linear(neuronsperlayer[i], neuronsperlayer[i+1]))\n",
    "            layers.append(nn.Sigmoid())\n",
    "            \n",
    "        self.net = nn.Sequential(*layers).to(self.device)\n",
    "\n",
    "        def init_weights(m):\n",
    "            if isinstance(m, nn.Linear):\n",
    "                init.xavier_uniform_(m.weight, gain=init.calculate_gain(\"sigmoid\"))\n",
    "                init.zeros_(m.bias)\n",
    "\n",
    "        self.net.apply(init_weights)\n",
    "        \n",
    "        self.loss_function = nn.MSELoss(reduction=\"sum\")\n",
    "        self.optimizer = optim.SGD(self.net.parameters(), lr=learning_rate, momentum=0)\n",
    "\n",
    "    def forward(self, input_layer): #Forward Pass through Neural Network\n",
    "        input_layer = torch.as_tensor(input_layer, dtype=torch.float32, device=self.device)\n",
    "        return self.net(input_layer)\n",
    "\n",
    "    def loss(self, output_layer, target): #Loss Function\n",
    "        return 0.5 * self.loss_function(output_layer, target)\n",
    "                \n",
    "    def learn(self, training_data, target, epochs, batch_size): #Stochastic Gradient Descent \n",
    "        X = torch.as_tensor(training_data, dtype=torch.float32, device=self.device)\n",
    "        Y = torch.as_tensor(target, dtype=torch.float32, device=self.device)\n",
    "        \n",
    "        dataset = torch.utils.data.TensorDataset(X, Y)\n",
    "        loader = torch.utils.data.DataLoader(dataset, batch_size=batch_size, shuffle=True)\n",
    "        \n",
    "        nofoutputs = Y.size(1) \n",
    "        \n",
    "        for epoch in range(1, epochs + 1):\n",
    "            running_loss = 0.0\n",
    "            \n",
    "            for x, y in loader:\n",
    "                self.optimizer.zero_grad()\n",
    "                predictions = self.net(x)\n",
    "                loss = self.loss(predictions, y)  \n",
    "                loss.backward()\n",
    "                self.optimizer.step()\n",
    "                running_loss += loss.item()\n",
    "\n",
    "            if epoch % 500 == 0 or epoch == 1:\n",
    "                average_loss = running_loss / (len(dataset) * nofoutputs)\n",
    "                print(f\"Epoch {epoch:4d}/{epochs} — Average Loss: {average_loss:.4f}\")\n"
   ]
  },
  {
   "cell_type": "code",
   "execution_count": 2,
   "id": "9a59c001",
   "metadata": {},
   "outputs": [
    {
     "name": "stdout",
     "output_type": "stream",
     "text": [
      "Epoch    1/2000 — Average Loss: 0.0460\n",
      "Epoch  500/2000 — Average Loss: 0.0011\n",
      "Epoch 1000/2000 — Average Loss: 0.0004\n",
      "Epoch 1500/2000 — Average Loss: 0.0003\n",
      "Epoch 2000/2000 — Average Loss: 0.0002\n"
     ]
    }
   ],
   "source": [
    "import numpy as np\n",
    "import pickle\n",
    "\n",
    "with open(\"mnist.pkl\", \"rb\") as f: #Loading in Data\n",
    "    (train_X, train_y), (valid_X, valid_y), (test_X, test_y) = pickle.load(f, encoding=\"latin1\")\n",
    "\n",
    "#Not Using Validation Data so Stacking it with the Training Data\n",
    "train_X = np.vstack([train_X, valid_X]) \n",
    "train_y = np.hstack([train_y, valid_y])\n",
    "\n",
    "#Changing the y/Output Data as Vectors\n",
    "#Ex: 3 --> [0, 0, 0, 1, 0, 0, 0, 0, 0, 0]\n",
    "num_classes = 10\n",
    "eye = np.eye(num_classes)\n",
    "train_Y_1hot = eye[train_y]\n",
    "test_Y_1hot = eye[test_y]\n",
    "\n",
    "#Scales Inputs to be between 0 and 1 to Stop the Vanishing Gradient Problem with Sigmoid\n",
    "train_X = train_X.astype(np.float32)\n",
    "test_X = test_X .astype(np.float32)\n",
    "\n",
    "NN = NeuralNetwork(neuronsperlayer=[784, 128, 64, 10], learning_rate=0.001)\n",
    "NN.learn(train_X, train_Y_1hot, epochs=2000, batch_size=128)\n"
   ]
  },
  {
   "cell_type": "code",
   "execution_count": 3,
   "id": "ca04112f",
   "metadata": {},
   "outputs": [
    {
     "name": "stdout",
     "output_type": "stream",
     "text": [
      "\n",
      "Test Accuracy: 97.95%\n"
     ]
    }
   ],
   "source": [
    "with torch.no_grad(): \n",
    "    X_test_corrected = torch.from_numpy(test_X).float()\n",
    "    logits = NN.forward(X_test_corrected) \n",
    "    predictions = logits.argmax(dim=1).cpu().numpy()\n",
    "\n",
    "accuracy = (predictions == test_y).mean()\n",
    "print(f\"\\nTest Accuracy: {accuracy*100:.2f}%\")\n"
   ]
  }
 ],
 "metadata": {
  "kernelspec": {
   "display_name": "Python 3 (ipykernel)",
   "language": "python",
   "name": "python3"
  },
  "language_info": {
   "codemirror_mode": {
    "name": "ipython",
    "version": 3
   },
   "file_extension": ".py",
   "mimetype": "text/x-python",
   "name": "python",
   "nbconvert_exporter": "python",
   "pygments_lexer": "ipython3",
   "version": "3.9.16"
  }
 },
 "nbformat": 4,
 "nbformat_minor": 5
}
